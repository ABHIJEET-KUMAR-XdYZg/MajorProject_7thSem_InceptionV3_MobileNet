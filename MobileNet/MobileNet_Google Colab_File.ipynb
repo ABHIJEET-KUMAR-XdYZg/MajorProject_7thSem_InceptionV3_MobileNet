{
  "nbformat": 4,
  "nbformat_minor": 0,
  "metadata": {
    "colab": {
      "provenance": [],
      "gpuType": "T4"
    },
    "kernelspec": {
      "name": "python3",
      "display_name": "Python 3"
    },
    "language_info": {
      "name": "python"
    },
    "accelerator": "GPU"
  },
  "cells": [
    {
      "cell_type": "code",
      "execution_count": 2,
      "metadata": {
        "id": "UHZmFRCdCe-l",
        "colab": {
          "base_uri": "https://localhost:8080/"
        },
        "outputId": "9981660f-3982-4c16-bc42-3a4ce9e20904"
      },
      "outputs": [
        {
          "output_type": "stream",
          "name": "stdout",
          "text": [
            "Mounted at /content/drive\n",
            "Files extracted to: /content/extracted_files\n"
          ]
        }
      ],
      "source": [
        "from google.colab import drive\n",
        "import zipfile\n",
        "import os\n",
        "\n",
        "# Step 1: Mount Google Drive\n",
        "drive.mount('/content/drive')\n",
        "\n",
        "# Step 2: Define the path to the ZIP file in your Google Drive\n",
        "zip_file_path = '/content/drive/MyDrive/zip-folder.zip'  # Replace with your actual file path\n",
        "extract_to_path = '/content/extracted_files'  # Directory where the ZIP file will be extracted\n",
        "\n",
        "# Step 3: Create the extraction directory if it doesn't exist\n",
        "os.makedirs(extract_to_path, exist_ok=True)\n",
        "\n",
        "# Step 4: Extract the ZIP file\n",
        "with zipfile.ZipFile(zip_file_path, 'r') as zip_ref:\n",
        "    zip_ref.extractall(extract_to_path)\n",
        "\n",
        "print(f\"Files extracted to: {extract_to_path}\")"
      ]
    },
    {
      "cell_type": "code",
      "source": [
        "import tensorflow as tf\n",
        "from tensorflow.keras.preprocessing.image import ImageDataGenerator\n",
        "from tensorflow.keras.applications import MobileNet\n",
        "from tensorflow.keras.models import Model\n",
        "from tensorflow.keras.layers import Dense, GlobalAveragePooling2D\n",
        "from tensorflow.keras.optimizers import Adam"
      ],
      "metadata": {
        "id": "780pb8kUGhMl"
      },
      "execution_count": 3,
      "outputs": []
    },
    {
      "cell_type": "code",
      "source": [
        "# Set paths to your dataset folders\n",
        "train_dir = '/content/extracted_files/train'\n",
        "val_dir = '/content/extracted_files/val'\n",
        "test_dir = '/content/extracted_files/test'"
      ],
      "metadata": {
        "id": "DFBpWwG8Gqui"
      },
      "execution_count": 4,
      "outputs": []
    },
    {
      "cell_type": "code",
      "source": [
        "# Hyperparameters\n",
        "batch_size = 32\n",
        "image_size = (224, 224)  # MobileNet requires 224x224 input size\n",
        "epochs = 20\n",
        "learning_rate = 0.001"
      ],
      "metadata": {
        "id": "jAizqCgcG2Ri"
      },
      "execution_count": 5,
      "outputs": []
    },
    {
      "cell_type": "code",
      "source": [
        "# Data Augmentation for Training\n",
        "train_datagen = ImageDataGenerator(\n",
        "    rescale=1.0 / 255,\n",
        "    rotation_range=20,\n",
        "    width_shift_range=0.2,\n",
        "    height_shift_range=0.2,\n",
        "    shear_range=0.2,\n",
        "    zoom_range=0.2,\n",
        "    horizontal_flip=True,\n",
        "    fill_mode='nearest'\n",
        ")\n",
        "val_datagen = ImageDataGenerator(rescale=1.0 / 255)\n",
        "test_datagen = ImageDataGenerator(rescale=1.0 / 255)"
      ],
      "metadata": {
        "id": "vJYfPwzRG687"
      },
      "execution_count": 6,
      "outputs": []
    },
    {
      "cell_type": "code",
      "source": [
        "# Data Generators\n",
        "train_generator = train_datagen.flow_from_directory(\n",
        "    train_dir,\n",
        "    target_size=image_size,\n",
        "    batch_size=batch_size,\n",
        "    class_mode='categorical'\n",
        ")\n",
        "\n",
        "val_generator = val_datagen.flow_from_directory(\n",
        "    val_dir,\n",
        "    target_size=image_size,\n",
        "    batch_size=batch_size,\n",
        "    class_mode='categorical'\n",
        ")\n",
        "\n",
        "test_generator = test_datagen.flow_from_directory(\n",
        "    test_dir,\n",
        "    target_size=image_size,\n",
        "    batch_size=batch_size,\n",
        "    class_mode='categorical',\n",
        "    shuffle=False\n",
        ")"
      ],
      "metadata": {
        "colab": {
          "base_uri": "https://localhost:8080/"
        },
        "id": "L4-xqP5vG-_Z",
        "outputId": "03f93559-8157-43ec-dfb1-37934ede3faa"
      },
      "execution_count": 7,
      "outputs": [
        {
          "output_type": "stream",
          "name": "stdout",
          "text": [
            "Found 6953 images belonging to 100 classes.\n",
            "Found 1966 images belonging to 100 classes.\n",
            "Found 1034 images belonging to 100 classes.\n"
          ]
        }
      ]
    },
    {
      "cell_type": "code",
      "source": [
        "# Load Pre-trained MobileNet Model\n",
        "base_model = MobileNet(weights='imagenet', include_top=False, input_shape=(224, 224, 3))"
      ],
      "metadata": {
        "colab": {
          "base_uri": "https://localhost:8080/"
        },
        "id": "d3JeRK9ZHCTz",
        "outputId": "dcb14fb5-1ee3-4607-9345-cfca9421fb9f"
      },
      "execution_count": 8,
      "outputs": [
        {
          "output_type": "stream",
          "name": "stdout",
          "text": [
            "Downloading data from https://storage.googleapis.com/tensorflow/keras-applications/mobilenet/mobilenet_1_0_224_tf_no_top.h5\n",
            "\u001b[1m17225924/17225924\u001b[0m \u001b[32m━━━━━━━━━━━━━━━━━━━━\u001b[0m\u001b[37m\u001b[0m \u001b[1m2s\u001b[0m 0us/step\n"
          ]
        }
      ]
    },
    {
      "cell_type": "code",
      "source": [
        "# Freeze the base model\n",
        "base_model.trainable = False"
      ],
      "metadata": {
        "id": "e4O0xVrZHG9r"
      },
      "execution_count": 9,
      "outputs": []
    },
    {
      "cell_type": "code",
      "source": [
        "# Add Custom Layers on top\n",
        "x = base_model.output\n",
        "x = GlobalAveragePooling2D()(x)\n",
        "x = Dense(1024, activation='relu')(x)\n",
        "predictions = Dense(train_generator.num_classes, activation='softmax')(x)"
      ],
      "metadata": {
        "id": "btjz1snRHIWn"
      },
      "execution_count": 10,
      "outputs": []
    },
    {
      "cell_type": "code",
      "source": [
        "# Create the model\n",
        "model = Model(inputs=base_model.input, outputs=predictions)"
      ],
      "metadata": {
        "id": "gmlHzpg6HKro"
      },
      "execution_count": 11,
      "outputs": []
    },
    {
      "cell_type": "code",
      "source": [
        "# Compile the model\n",
        "model.compile(optimizer=Adam(learning_rate=learning_rate),\n",
        "              loss='categorical_crossentropy',\n",
        "              metrics=['accuracy'])"
      ],
      "metadata": {
        "id": "7CQbYKseHMTU"
      },
      "execution_count": 12,
      "outputs": []
    },
    {
      "cell_type": "code",
      "source": [
        "# Train the model\n",
        "history = model.fit(\n",
        "    train_generator,\n",
        "    epochs=epochs,\n",
        "    validation_data=val_generator\n",
        ")"
      ],
      "metadata": {
        "colab": {
          "base_uri": "https://localhost:8080/"
        },
        "id": "EAQLkzAIHNjP",
        "outputId": "0a014b4e-ea82-4f9b-b93e-6577a1d0726d"
      },
      "execution_count": 13,
      "outputs": [
        {
          "output_type": "stream",
          "name": "stdout",
          "text": [
            "Epoch 1/20\n"
          ]
        },
        {
          "output_type": "stream",
          "name": "stderr",
          "text": [
            "/usr/local/lib/python3.10/dist-packages/keras/src/trainers/data_adapters/py_dataset_adapter.py:122: UserWarning: Your `PyDataset` class should call `super().__init__(**kwargs)` in its constructor. `**kwargs` can include `workers`, `use_multiprocessing`, `max_queue_size`. Do not pass these arguments to `fit()`, as they will be ignored.\n",
            "  self._warn_if_super_not_called()\n"
          ]
        },
        {
          "output_type": "stream",
          "name": "stdout",
          "text": [
            "\u001b[1m218/218\u001b[0m \u001b[32m━━━━━━━━━━━━━━━━━━━━\u001b[0m\u001b[37m\u001b[0m \u001b[1m105s\u001b[0m 431ms/step - accuracy: 0.1575 - loss: 3.9769 - val_accuracy: 0.5651 - val_loss: 1.7548\n",
            "Epoch 2/20\n",
            "\u001b[1m218/218\u001b[0m \u001b[32m━━━━━━━━━━━━━━━━━━━━\u001b[0m\u001b[37m\u001b[0m \u001b[1m130s\u001b[0m 404ms/step - accuracy: 0.5872 - loss: 1.6721 - val_accuracy: 0.7889 - val_loss: 0.8668\n",
            "Epoch 3/20\n",
            "\u001b[1m218/218\u001b[0m \u001b[32m━━━━━━━━━━━━━━━━━━━━\u001b[0m\u001b[37m\u001b[0m \u001b[1m142s\u001b[0m 397ms/step - accuracy: 0.7609 - loss: 0.9301 - val_accuracy: 0.8642 - val_loss: 0.5305\n",
            "Epoch 4/20\n",
            "\u001b[1m218/218\u001b[0m \u001b[32m━━━━━━━━━━━━━━━━━━━━\u001b[0m\u001b[37m\u001b[0m \u001b[1m142s\u001b[0m 405ms/step - accuracy: 0.8383 - loss: 0.6444 - val_accuracy: 0.9252 - val_loss: 0.3099\n",
            "Epoch 5/20\n",
            "\u001b[1m218/218\u001b[0m \u001b[32m━━━━━━━━━━━━━━━━━━━━\u001b[0m\u001b[37m\u001b[0m \u001b[1m88s\u001b[0m 394ms/step - accuracy: 0.8796 - loss: 0.4559 - val_accuracy: 0.9502 - val_loss: 0.1982\n",
            "Epoch 6/20\n",
            "\u001b[1m218/218\u001b[0m \u001b[32m━━━━━━━━━━━━━━━━━━━━\u001b[0m\u001b[37m\u001b[0m \u001b[1m147s\u001b[0m 415ms/step - accuracy: 0.9125 - loss: 0.3441 - val_accuracy: 0.9446 - val_loss: 0.2069\n",
            "Epoch 7/20\n",
            "\u001b[1m218/218\u001b[0m \u001b[32m━━━━━━━━━━━━━━━━━━━━\u001b[0m\u001b[37m\u001b[0m \u001b[1m138s\u001b[0m 396ms/step - accuracy: 0.9218 - loss: 0.2968 - val_accuracy: 0.9705 - val_loss: 0.1297\n",
            "Epoch 8/20\n",
            "\u001b[1m218/218\u001b[0m \u001b[32m━━━━━━━━━━━━━━━━━━━━\u001b[0m\u001b[37m\u001b[0m \u001b[1m146s\u001b[0m 416ms/step - accuracy: 0.9330 - loss: 0.2419 - val_accuracy: 0.9542 - val_loss: 0.1640\n",
            "Epoch 9/20\n",
            "\u001b[1m218/218\u001b[0m \u001b[32m━━━━━━━━━━━━━━━━━━━━\u001b[0m\u001b[37m\u001b[0m \u001b[1m89s\u001b[0m 399ms/step - accuracy: 0.9352 - loss: 0.2496 - val_accuracy: 0.9766 - val_loss: 0.0940\n",
            "Epoch 10/20\n",
            "\u001b[1m218/218\u001b[0m \u001b[32m━━━━━━━━━━━━━━━━━━━━\u001b[0m\u001b[37m\u001b[0m \u001b[1m145s\u001b[0m 405ms/step - accuracy: 0.9514 - loss: 0.1843 - val_accuracy: 0.9771 - val_loss: 0.0892\n",
            "Epoch 11/20\n",
            "\u001b[1m218/218\u001b[0m \u001b[32m━━━━━━━━━━━━━━━━━━━━\u001b[0m\u001b[37m\u001b[0m \u001b[1m139s\u001b[0m 399ms/step - accuracy: 0.9461 - loss: 0.1937 - val_accuracy: 0.9730 - val_loss: 0.0979\n",
            "Epoch 12/20\n",
            "\u001b[1m218/218\u001b[0m \u001b[32m━━━━━━━━━━━━━━━━━━━━\u001b[0m\u001b[37m\u001b[0m \u001b[1m142s\u001b[0m 400ms/step - accuracy: 0.9506 - loss: 0.1820 - val_accuracy: 0.9766 - val_loss: 0.0873\n",
            "Epoch 13/20\n",
            "\u001b[1m218/218\u001b[0m \u001b[32m━━━━━━━━━━━━━━━━━━━━\u001b[0m\u001b[37m\u001b[0m \u001b[1m142s\u001b[0m 401ms/step - accuracy: 0.9586 - loss: 0.1508 - val_accuracy: 0.9807 - val_loss: 0.0664\n",
            "Epoch 14/20\n",
            "\u001b[1m218/218\u001b[0m \u001b[32m━━━━━━━━━━━━━━━━━━━━\u001b[0m\u001b[37m\u001b[0m \u001b[1m143s\u001b[0m 407ms/step - accuracy: 0.9526 - loss: 0.1521 - val_accuracy: 0.9786 - val_loss: 0.0656\n",
            "Epoch 15/20\n",
            "\u001b[1m218/218\u001b[0m \u001b[32m━━━━━━━━━━━━━━━━━━━━\u001b[0m\u001b[37m\u001b[0m \u001b[1m140s\u001b[0m 398ms/step - accuracy: 0.9535 - loss: 0.1507 - val_accuracy: 0.9776 - val_loss: 0.0703\n",
            "Epoch 16/20\n",
            "\u001b[1m218/218\u001b[0m \u001b[32m━━━━━━━━━━━━━━━━━━━━\u001b[0m\u001b[37m\u001b[0m \u001b[1m141s\u001b[0m 393ms/step - accuracy: 0.9596 - loss: 0.1384 - val_accuracy: 0.9781 - val_loss: 0.0636\n",
            "Epoch 17/20\n",
            "\u001b[1m218/218\u001b[0m \u001b[32m━━━━━━━━━━━━━━━━━━━━\u001b[0m\u001b[37m\u001b[0m \u001b[1m145s\u001b[0m 409ms/step - accuracy: 0.9594 - loss: 0.1494 - val_accuracy: 0.9751 - val_loss: 0.0799\n",
            "Epoch 18/20\n",
            "\u001b[1m218/218\u001b[0m \u001b[32m━━━━━━━━━━━━━━━━━━━━\u001b[0m\u001b[37m\u001b[0m \u001b[1m140s\u001b[0m 400ms/step - accuracy: 0.9595 - loss: 0.1236 - val_accuracy: 0.9781 - val_loss: 0.0690\n",
            "Epoch 19/20\n",
            "\u001b[1m218/218\u001b[0m \u001b[32m━━━━━━━━━━━━━━━━━━━━\u001b[0m\u001b[37m\u001b[0m \u001b[1m143s\u001b[0m 405ms/step - accuracy: 0.9607 - loss: 0.1304 - val_accuracy: 0.9771 - val_loss: 0.0707\n",
            "Epoch 20/20\n",
            "\u001b[1m218/218\u001b[0m \u001b[32m━━━━━━━━━━━━━━━━━━━━\u001b[0m\u001b[37m\u001b[0m \u001b[1m139s\u001b[0m 391ms/step - accuracy: 0.9673 - loss: 0.1048 - val_accuracy: 0.9914 - val_loss: 0.0281\n"
          ]
        }
      ]
    },
    {
      "cell_type": "code",
      "source": [
        "# Evaluate on training data\n",
        "train_loss, train_accuracy = model.evaluate(train_generator)\n",
        "print(f\"Train Loss: {train_loss:.4f}\\tTrain Accuracy: {train_accuracy * 100:.2f}%\")"
      ],
      "metadata": {
        "colab": {
          "base_uri": "https://localhost:8080/"
        },
        "id": "1es7Le7bHPBA",
        "outputId": "7a4aa461-c1d3-409c-8d78-3a207875c842"
      },
      "execution_count": 14,
      "outputs": [
        {
          "output_type": "stream",
          "name": "stdout",
          "text": [
            "\u001b[1m218/218\u001b[0m \u001b[32m━━━━━━━━━━━━━━━━━━━━\u001b[0m\u001b[37m\u001b[0m \u001b[1m92s\u001b[0m 423ms/step - accuracy: 0.9679 - loss: 0.1140\n",
            "Train Loss: 0.1047\tTrain Accuracy: 96.95%\n"
          ]
        }
      ]
    },
    {
      "cell_type": "code",
      "source": [
        "# Evaluate on test data\n",
        "test_loss, test_accuracy = model.evaluate(test_generator)\n",
        "print(f\"Test Loss: {test_loss:.4f}\\tTest Accuracy: {test_accuracy * 100:.2f}%\")"
      ],
      "metadata": {
        "id": "PuLrlt-3GP7b",
        "outputId": "488f70f3-b2b9-43e9-ac09-8b80e3b47acd",
        "colab": {
          "base_uri": "https://localhost:8080/"
        }
      },
      "execution_count": 16,
      "outputs": [
        {
          "output_type": "stream",
          "name": "stdout",
          "text": [
            "\u001b[1m33/33\u001b[0m \u001b[32m━━━━━━━━━━━━━━━━━━━━\u001b[0m\u001b[37m\u001b[0m \u001b[1m2s\u001b[0m 66ms/step - accuracy: 0.9962 - loss: 0.0159\n",
            "Test Loss: 0.0278\tTest Accuracy: 99.23%\n"
          ]
        }
      ]
    },
    {
      "cell_type": "code",
      "source": [
        "# Unfreeze the base model and fine-tune\n",
        "base_model.trainable = True\n",
        "model.compile(optimizer=Adam(learning_rate=learning_rate / 10),\n",
        "              loss='categorical_crossentropy',\n",
        "              metrics=['accuracy'])\n",
        "\n",
        "fine_tune_epochs = 10\n",
        "history_fine_tune = model.fit(\n",
        "    train_generator,\n",
        "    epochs=fine_tune_epochs,\n",
        "    validation_data=val_generator\n",
        ")"
      ],
      "metadata": {
        "id": "1CMRBRVwGn68",
        "outputId": "33ee33b3-8a84-4f12-9408-c22703459657",
        "colab": {
          "base_uri": "https://localhost:8080/"
        }
      },
      "execution_count": 17,
      "outputs": [
        {
          "output_type": "stream",
          "name": "stdout",
          "text": [
            "Epoch 1/10\n",
            "\u001b[1m218/218\u001b[0m \u001b[32m━━━━━━━━━━━━━━━━━━━━\u001b[0m\u001b[37m\u001b[0m \u001b[1m146s\u001b[0m 516ms/step - accuracy: 0.5795 - loss: 2.6112 - val_accuracy: 0.9257 - val_loss: 0.2397\n",
            "Epoch 2/10\n",
            "\u001b[1m218/218\u001b[0m \u001b[32m━━━━━━━━━━━━━━━━━━━━\u001b[0m\u001b[37m\u001b[0m \u001b[1m104s\u001b[0m 423ms/step - accuracy: 0.9272 - loss: 0.2282 - val_accuracy: 0.9807 - val_loss: 0.0628\n",
            "Epoch 3/10\n",
            "\u001b[1m218/218\u001b[0m \u001b[32m━━━━━━━━━━━━━━━━━━━━\u001b[0m\u001b[37m\u001b[0m \u001b[1m146s\u001b[0m 434ms/step - accuracy: 0.9671 - loss: 0.1047 - val_accuracy: 0.9852 - val_loss: 0.0399\n",
            "Epoch 4/10\n",
            "\u001b[1m218/218\u001b[0m \u001b[32m━━━━━━━━━━━━━━━━━━━━\u001b[0m\u001b[37m\u001b[0m \u001b[1m140s\u001b[0m 435ms/step - accuracy: 0.9745 - loss: 0.0742 - val_accuracy: 0.9954 - val_loss: 0.0112\n",
            "Epoch 5/10\n",
            "\u001b[1m218/218\u001b[0m \u001b[32m━━━━━━━━━━━━━━━━━━━━\u001b[0m\u001b[37m\u001b[0m \u001b[1m97s\u001b[0m 430ms/step - accuracy: 0.9839 - loss: 0.0535 - val_accuracy: 0.9959 - val_loss: 0.0160\n",
            "Epoch 6/10\n",
            "\u001b[1m218/218\u001b[0m \u001b[32m━━━━━━━━━━━━━━━━━━━━\u001b[0m\u001b[37m\u001b[0m \u001b[1m143s\u001b[0m 435ms/step - accuracy: 0.9864 - loss: 0.0576 - val_accuracy: 0.9969 - val_loss: 0.0111\n",
            "Epoch 7/10\n",
            "\u001b[1m218/218\u001b[0m \u001b[32m━━━━━━━━━━━━━━━━━━━━\u001b[0m\u001b[37m\u001b[0m \u001b[1m100s\u001b[0m 447ms/step - accuracy: 0.9900 - loss: 0.0360 - val_accuracy: 0.9975 - val_loss: 0.0066\n",
            "Epoch 8/10\n",
            "\u001b[1m218/218\u001b[0m \u001b[32m━━━━━━━━━━━━━━━━━━━━\u001b[0m\u001b[37m\u001b[0m \u001b[1m140s\u001b[0m 439ms/step - accuracy: 0.9933 - loss: 0.0237 - val_accuracy: 0.9964 - val_loss: 0.0128\n",
            "Epoch 9/10\n",
            "\u001b[1m218/218\u001b[0m \u001b[32m━━━━━━━━━━━━━━━━━━━━\u001b[0m\u001b[37m\u001b[0m \u001b[1m96s\u001b[0m 431ms/step - accuracy: 0.9946 - loss: 0.0223 - val_accuracy: 0.9985 - val_loss: 0.0032\n",
            "Epoch 10/10\n",
            "\u001b[1m218/218\u001b[0m \u001b[32m━━━━━━━━━━━━━━━━━━━━\u001b[0m\u001b[37m\u001b[0m \u001b[1m142s\u001b[0m 431ms/step - accuracy: 0.9897 - loss: 0.0319 - val_accuracy: 0.9975 - val_loss: 0.0070\n"
          ]
        }
      ]
    },
    {
      "cell_type": "code",
      "source": [
        "# Evaluate on training data\n",
        "train_loss, train_accuracy = model.evaluate(train_generator)\n",
        "print(f\"Train Loss: {train_loss:.4f}\\tTrain Accuracy: {train_accuracy * 100:.2f}%\")"
      ],
      "metadata": {
        "id": "AgIpsYNDHdZc",
        "outputId": "8fa8eaf8-2246-4583-dba4-244918183f0b",
        "colab": {
          "base_uri": "https://localhost:8080/"
        }
      },
      "execution_count": 18,
      "outputs": [
        {
          "output_type": "stream",
          "name": "stdout",
          "text": [
            "\u001b[1m218/218\u001b[0m \u001b[32m━━━━━━━━━━━━━━━━━━━━\u001b[0m\u001b[37m\u001b[0m \u001b[1m89s\u001b[0m 409ms/step - accuracy: 0.9873 - loss: 0.0420\n",
            "Train Loss: 0.0400\tTrain Accuracy: 98.81%\n"
          ]
        }
      ]
    },
    {
      "cell_type": "code",
      "source": [
        "# Evaluate on test data\n",
        "test_loss, test_accuracy = model.evaluate(test_generator)\n",
        "print(f\"Test Loss: {test_loss:.4f}\\tTest Accuracy: {test_accuracy * 100:.2f}%\")"
      ],
      "metadata": {
        "id": "esJHxYjFPSmj",
        "outputId": "c2ed73c9-eb14-4357-b1dc-cbc1d2f01d44",
        "colab": {
          "base_uri": "https://localhost:8080/"
        }
      },
      "execution_count": 20,
      "outputs": [
        {
          "output_type": "stream",
          "name": "stdout",
          "text": [
            "\u001b[1m33/33\u001b[0m \u001b[32m━━━━━━━━━━━━━━━━━━━━\u001b[0m\u001b[37m\u001b[0m \u001b[1m3s\u001b[0m 96ms/step - accuracy: 0.9983 - loss: 0.0104\n",
            "Test Loss: 0.0071\tTest Accuracy: 99.90%\n"
          ]
        }
      ]
    },
    {
      "cell_type": "code",
      "source": [
        "model.save('mobilenet_finetuned.h5')"
      ],
      "metadata": {
        "id": "Jc_RfsLhP0Fl",
        "outputId": "436f521a-b019-4a8e-f9d2-66e58fb9506f",
        "colab": {
          "base_uri": "https://localhost:8080/"
        }
      },
      "execution_count": 21,
      "outputs": [
        {
          "output_type": "stream",
          "name": "stderr",
          "text": [
            "WARNING:absl:You are saving your model as an HDF5 file via `model.save()` or `keras.saving.save_model(model)`. This file format is considered legacy. We recommend using instead the native Keras format, e.g. `model.save('my_model.keras')` or `keras.saving.save_model(model, 'my_model.keras')`. \n"
          ]
        }
      ]
    },
    {
      "cell_type": "code",
      "source": [
        "import matplotlib.pyplot as plt\n",
        "\n",
        "# Plot accuracy\n",
        "plt.plot(history_fine_tune.history['accuracy'], label='Train Accuracy')\n",
        "plt.plot(history_fine_tune.history['val_accuracy'], label='Validation Accuracy')\n",
        "plt.title('Accuracy Over Epochs')\n",
        "plt.xlabel('Epochs')\n",
        "plt.ylabel('Accuracy')\n",
        "plt.legend()\n",
        "plt.show()\n",
        "\n",
        "# Plot loss\n",
        "plt.plot(history_fine_tune.history['loss'], label='Train Loss')\n",
        "plt.plot(history_fine_tune.history['val_loss'], label='Validation Loss')\n",
        "plt.title('Loss Over Epochs')\n",
        "plt.xlabel('Epochs')\n",
        "plt.ylabel('Loss')\n",
        "plt.legend()\n",
        "plt.show()"
      ],
      "metadata": {
        "id": "kE5UByfsP6LD",
        "outputId": "b47cec4c-007f-4626-b6d1-f955758495df",
        "colab": {
          "base_uri": "https://localhost:8080/",
          "height": 927
        }
      },
      "execution_count": 22,
      "outputs": [
        {
          "output_type": "display_data",
          "data": {
            "text/plain": [
              "<Figure size 640x480 with 1 Axes>"
            ],
            "image/png": "[encoded data removed]"
          },
          "metadata": {}
        },
        {
          "output_type": "display_data",
          "data": {
            "text/plain": [
              "<Figure size 640x480 with 1 Axes>"
            ],
            "image/png": "[encoded data removed]"
          },
          "metadata": {}
        }
      ]
    },
    {
      "cell_type": "code",
      "source": [
        "model.save('mobilenet_finetuned.keras')"
      ],
      "metadata": {
        "id": "OAoXeRv3QLgy"
      },
      "execution_count": 23,
      "outputs": []
    },
    {
      "cell_type": "code",
      "source": [],
      "metadata": {
        "id": "Fz18GxW5QSGa"
      },
      "execution_count": null,
      "outputs": []
    }
  ]
}
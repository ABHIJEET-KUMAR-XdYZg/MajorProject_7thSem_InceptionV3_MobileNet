{
  "nbformat": 4,
  "nbformat_minor": 0,
  "metadata": {
    "colab": {
      "provenance": [],
      "gpuType": "T4"
    },
    "kernelspec": {
      "name": "python3",
      "display_name": "Python 3"
    },
    "language_info": {
      "name": "python"
    },
    "accelerator": "GPU"
  },
  "cells": [
    {
      "cell_type": "code",
      "execution_count": 2,
      "metadata": {
        "colab": {
          "base_uri": "https://localhost:8080/"
        },
        "id": "kPBZUF-ScrOl",
        "outputId": "c1804e74-f24e-4933-b074-b3793a245f44"
      },
      "outputs": [
        {
          "output_type": "stream",
          "name": "stdout",
          "text": [
            "Mounted at /content/drive\n",
            "Files extracted to: /content/extracted_files\n"
          ]
        }
      ],
      "source": [
        "from google.colab import drive\n",
        "import zipfile\n",
        "import os\n",
        "\n",
        "# Step 1: Mount Google Drive\n",
        "drive.mount('/content/drive')\n",
        "\n",
        "# Step 2: Define the path to the ZIP file in your Google Drive\n",
        "zip_file_path = '/content/drive/MyDrive/zip-folder.zip'  # Replace with your actual file path\n",
        "extract_to_path = '/content/extracted_files'  # Directory where the ZIP file will be extracted\n",
        "\n",
        "# Step 3: Create the extraction directory if it doesn't exist\n",
        "os.makedirs(extract_to_path, exist_ok=True)\n",
        "\n",
        "# Step 4: Extract the ZIP file\n",
        "with zipfile.ZipFile(zip_file_path, 'r') as zip_ref:\n",
        "    zip_ref.extractall(extract_to_path)\n",
        "\n",
        "print(f\"Files extracted to: {extract_to_path}\")"
      ]
    },
    {
      "cell_type": "code",
      "source": [
        "import tensorflow as tf\n",
        "from tensorflow.keras.preprocessing.image import ImageDataGenerator\n",
        "from tensorflow.keras.applications import InceptionV3\n",
        "from tensorflow.keras.layers import Dense, GlobalAveragePooling2D\n",
        "from tensorflow.keras.models import Model\n",
        "from tensorflow.keras.optimizers import Adam\n",
        "from tensorflow.keras.models import load_model\n",
        "from tensorflow.keras.applications.inception_v3 import preprocess_input"
      ],
      "metadata": {
        "id": "3D3EO0eZdE0s"
      },
      "execution_count": 14,
      "outputs": []
    },
    {
      "cell_type": "code",
      "source": [
        "# Define paths to your dataset\n",
        "train_dir = \"extracted_files/train\"\n",
        "val_dir = \"extracted_files/val\"\n",
        "test_dir = \"extracted_files/test\""
      ],
      "metadata": {
        "id": "G-1GtAN9dfKc"
      },
      "execution_count": 7,
      "outputs": []
    },
    {
      "cell_type": "code",
      "source": [
        "# Set parameters\n",
        "img_height, img_width = 299, 299  # InceptionV3 input size\n",
        "batch_size = 32"
      ],
      "metadata": {
        "id": "5ZZFc3Zbdg63"
      },
      "execution_count": 11,
      "outputs": []
    },
    {
      "cell_type": "code",
      "source": [
        "# Load datasets\n",
        "train_ds = tf.keras.preprocessing.image_dataset_from_directory(\n",
        "    train_dir,\n",
        "    image_size=(img_height, img_width),\n",
        "    batch_size=batch_size,\n",
        "    label_mode='int'\n",
        ")\n",
        "\n",
        "val_ds = tf.keras.preprocessing.image_dataset_from_directory(\n",
        "    val_dir,\n",
        "    image_size=(img_height, img_width),\n",
        "    batch_size=batch_size,\n",
        "    label_mode='int'\n",
        ")\n",
        "\n",
        "test_ds = tf.keras.preprocessing.image_dataset_from_directory(\n",
        "    test_dir,\n",
        "    image_size=(img_height, img_width),\n",
        "    batch_size=batch_size,\n",
        "    label_mode='int'\n",
        ")"
      ],
      "metadata": {
        "colab": {
          "base_uri": "https://localhost:8080/"
        },
        "id": "qmfDAM5Edt21",
        "outputId": "b996c183-e9cb-4b88-fecc-d250ea483570"
      },
      "execution_count": 12,
      "outputs": [
        {
          "output_type": "stream",
          "name": "stdout",
          "text": [
            "Found 6953 files belonging to 100 classes.\n",
            "Found 1966 files belonging to 100 classes.\n",
            "Found 1034 files belonging to 100 classes.\n"
          ]
        }
      ]
    },
    {
      "cell_type": "code",
      "source": [
        "# Auto-detect the number of classes\n",
        "class_names = train_ds.class_names\n",
        "num_classes = len(class_names)\n",
        "print(f\"Number of classes: {num_classes}\")"
      ],
      "metadata": {
        "colab": {
          "base_uri": "https://localhost:8080/"
        },
        "id": "XaaNREi9d5Yy",
        "outputId": "5eb9efde-075d-4e68-af57-ca765b0720fe"
      },
      "execution_count": 13,
      "outputs": [
        {
          "output_type": "stream",
          "name": "stdout",
          "text": [
            "Number of classes: 100\n"
          ]
        }
      ]
    },
    {
      "cell_type": "code",
      "source": [
        "# Preprocess datasets\n",
        "train_ds = train_ds.map(lambda x, y: (preprocess_input(x), y))\n",
        "val_ds = val_ds.map(lambda x, y: (preprocess_input(x), y))\n",
        "test_ds = test_ds.map(lambda x, y: (preprocess_input(x), y))"
      ],
      "metadata": {
        "id": "8-xe1sXmeUHU"
      },
      "execution_count": 15,
      "outputs": []
    },
    {
      "cell_type": "code",
      "source": [
        "model = load_model('/content/drive/MyDrive/InceptionV3_Model.h5')"
      ],
      "metadata": {
        "colab": {
          "base_uri": "https://localhost:8080/"
        },
        "id": "F0Uen1O6eXTQ",
        "outputId": "4ca9707f-93a1-4f41-aadc-f950acebacbb"
      },
      "execution_count": 16,
      "outputs": [
        {
          "output_type": "stream",
          "name": "stderr",
          "text": [
            "WARNING:absl:Compiled the loaded model, but the compiled metrics have yet to be built. `model.compile_metrics` will be empty until you train or evaluate the model.\n"
          ]
        }
      ]
    },
    {
      "cell_type": "code",
      "source": [
        "# Evaluate on training data\n",
        "train_loss, train_acc = model.evaluate(train_ds)\n",
        "print(f\"Train Loss: {train_loss:.4f}\\tTrain Accuracy: {train_acc * 100:.2f}%\")\n",
        "\n",
        "# Evaluate on test data\n",
        "test_loss, test_acc = model.evaluate(test_ds)\n",
        "print(f\"Test Loss: {test_loss:.4f}\\tTest Accuracy: {test_acc * 100:.2f}%\")"
      ],
      "metadata": {
        "colab": {
          "base_uri": "https://localhost:8080/"
        },
        "id": "uAyg3BqZedIH",
        "outputId": "03a4aa51-2765-4c93-d16e-af3a1b7dd545"
      },
      "execution_count": 17,
      "outputs": [
        {
          "output_type": "stream",
          "name": "stdout",
          "text": [
            "\u001b[1m218/218\u001b[0m \u001b[32m━━━━━━━━━━━━━━━━━━━━\u001b[0m\u001b[37m\u001b[0m \u001b[1m48s\u001b[0m 142ms/step - accuracy: 1.0000 - loss: 4.8255e-04\n",
            "Train Loss: 0.0005\tTrain Accuracy: 100.00%\n",
            "\u001b[1m33/33\u001b[0m \u001b[32m━━━━━━━━━━━━━━━━━━━━\u001b[0m\u001b[37m\u001b[0m \u001b[1m12s\u001b[0m 360ms/step - accuracy: 1.0000 - loss: 0.0031\n",
            "Test Loss: 0.0025\tTest Accuracy: 100.00%\n"
          ]
        }
      ]
    },
    {
      "cell_type": "code",
      "source": [],
      "metadata": {
        "id": "9e4Fd-NwefyM"
      },
      "execution_count": null,
      "outputs": []
    }
  ]
}